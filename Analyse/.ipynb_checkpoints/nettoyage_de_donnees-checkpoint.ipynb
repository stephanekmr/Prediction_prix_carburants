{
 "cells": [
  {
   "cell_type": "code",
   "execution_count": 1,
   "id": "5e801bf2-485e-4736-b214-69a16e63373e",
   "metadata": {},
   "outputs": [],
   "source": [
    "# Importation des bibliothèques utiles\n",
    "import pandas as pd\n",
    "import matplotlib.pyplot as plt\n",
    "import numpy as np"
   ]
  },
  {
   "cell_type": "code",
   "execution_count": 28,
   "id": "6737bb68-2543-4f26-accb-5c73d684ae2b",
   "metadata": {
    "scrolled": true
   },
   "outputs": [
    {
     "ename": "UnicodeDecodeError",
     "evalue": "'utf-8' codec can't decode byte 0xea in position 977: invalid continuation byte",
     "output_type": "error",
     "traceback": [
      "\u001b[31m---------------------------------------------------------------------------\u001b[39m",
      "\u001b[31mUnicodeDecodeError\u001b[39m                        Traceback (most recent call last)",
      "\u001b[36mCell\u001b[39m\u001b[36m \u001b[39m\u001b[32mIn[28]\u001b[39m\u001b[32m, line 21\u001b[39m\n\u001b[32m      1\u001b[39m \u001b[38;5;66;03m# Importer tous nos dataframmes de 2007 à 2025\u001b[39;00m\n\u001b[32m      2\u001b[39m \u001b[38;5;66;03m# df_2007 = pd.read_xml(\"../Donnees/brutes/PrixCarburants_annuel_2007.xml\")\u001b[39;00m\n\u001b[32m      3\u001b[39m \u001b[38;5;66;03m# df_2008 = pd.read_xml(\"../Donnees/brutes/PrixCarburants_annuel_2008.xml\")\u001b[39;00m\n\u001b[32m   (...)\u001b[39m\u001b[32m     18\u001b[39m \u001b[38;5;66;03m# df_2023 = pd.read_xml(\"../Donnees/brutes/PrixCarburants_annuel_2023.xml\")\u001b[39;00m\n\u001b[32m     19\u001b[39m \u001b[38;5;66;03m# df_2024 = pd.read_xml(\"../Donnees/brutes/PrixCarburants_annuel_2024.xml\")\u001b[39;00m\n\u001b[32m     20\u001b[39m df_2025 = pd.read_xml(\u001b[33m\"\u001b[39m\u001b[33m../Donnees/brutes/PrixCarburants_annuel_2025.xml\u001b[39m\u001b[33m\"\u001b[39m)\n\u001b[32m---> \u001b[39m\u001b[32m21\u001b[39m df_instantane = \u001b[43mpd\u001b[49m\u001b[43m.\u001b[49m\u001b[43mread_xml\u001b[49m\u001b[43m(\u001b[49m\u001b[33;43m\"\u001b[39;49m\u001b[33;43m../Donnees/brutes/PrixCarburants_instantane.xml\u001b[39;49m\u001b[33;43m\"\u001b[39;49m\u001b[43m)\u001b[49m\n\u001b[32m     22\u001b[39m \u001b[38;5;66;03m# df_quotidient = pd.read_xml(\"../Donnees/brutes/PrixCarburants_quotidien.xml\")\u001b[39;00m\n",
      "\u001b[36mFile \u001b[39m\u001b[32m~\\AppData\\Local\\Packages\\PythonSoftwareFoundation.Python.3.13_qbz5n2kfra8p0\\LocalCache\\local-packages\\Python313\\site-packages\\pandas\\io\\xml.py:1160\u001b[39m, in \u001b[36mread_xml\u001b[39m\u001b[34m(path_or_buffer, xpath, namespaces, elems_only, attrs_only, names, dtype, converters, parse_dates, encoding, parser, stylesheet, iterparse, compression, storage_options, dtype_backend)\u001b[39m\n\u001b[32m    888\u001b[39m \u001b[38;5;250m\u001b[39m\u001b[33mr\u001b[39m\u001b[33;03m\"\"\"\u001b[39;00m\n\u001b[32m    889\u001b[39m \u001b[33;03mRead XML document into a :class:`~pandas.DataFrame` object.\u001b[39;00m\n\u001b[32m    890\u001b[39m \n\u001b[32m   (...)\u001b[39m\u001b[32m   1156\u001b[39m \u001b[33;03m1      1  <NA>  4.5  False  b 2019-12-31\u001b[39;00m\n\u001b[32m   1157\u001b[39m \u001b[33;03m\"\"\"\u001b[39;00m\n\u001b[32m   1158\u001b[39m check_dtype_backend(dtype_backend)\n\u001b[32m-> \u001b[39m\u001b[32m1160\u001b[39m \u001b[38;5;28;01mreturn\u001b[39;00m \u001b[43m_parse\u001b[49m\u001b[43m(\u001b[49m\n\u001b[32m   1161\u001b[39m \u001b[43m    \u001b[49m\u001b[43mpath_or_buffer\u001b[49m\u001b[43m=\u001b[49m\u001b[43mpath_or_buffer\u001b[49m\u001b[43m,\u001b[49m\n\u001b[32m   1162\u001b[39m \u001b[43m    \u001b[49m\u001b[43mxpath\u001b[49m\u001b[43m=\u001b[49m\u001b[43mxpath\u001b[49m\u001b[43m,\u001b[49m\n\u001b[32m   1163\u001b[39m \u001b[43m    \u001b[49m\u001b[43mnamespaces\u001b[49m\u001b[43m=\u001b[49m\u001b[43mnamespaces\u001b[49m\u001b[43m,\u001b[49m\n\u001b[32m   1164\u001b[39m \u001b[43m    \u001b[49m\u001b[43melems_only\u001b[49m\u001b[43m=\u001b[49m\u001b[43melems_only\u001b[49m\u001b[43m,\u001b[49m\n\u001b[32m   1165\u001b[39m \u001b[43m    \u001b[49m\u001b[43mattrs_only\u001b[49m\u001b[43m=\u001b[49m\u001b[43mattrs_only\u001b[49m\u001b[43m,\u001b[49m\n\u001b[32m   1166\u001b[39m \u001b[43m    \u001b[49m\u001b[43mnames\u001b[49m\u001b[43m=\u001b[49m\u001b[43mnames\u001b[49m\u001b[43m,\u001b[49m\n\u001b[32m   1167\u001b[39m \u001b[43m    \u001b[49m\u001b[43mdtype\u001b[49m\u001b[43m=\u001b[49m\u001b[43mdtype\u001b[49m\u001b[43m,\u001b[49m\n\u001b[32m   1168\u001b[39m \u001b[43m    \u001b[49m\u001b[43mconverters\u001b[49m\u001b[43m=\u001b[49m\u001b[43mconverters\u001b[49m\u001b[43m,\u001b[49m\n\u001b[32m   1169\u001b[39m \u001b[43m    \u001b[49m\u001b[43mparse_dates\u001b[49m\u001b[43m=\u001b[49m\u001b[43mparse_dates\u001b[49m\u001b[43m,\u001b[49m\n\u001b[32m   1170\u001b[39m \u001b[43m    \u001b[49m\u001b[43mencoding\u001b[49m\u001b[43m=\u001b[49m\u001b[43mencoding\u001b[49m\u001b[43m,\u001b[49m\n\u001b[32m   1171\u001b[39m \u001b[43m    \u001b[49m\u001b[43mparser\u001b[49m\u001b[43m=\u001b[49m\u001b[43mparser\u001b[49m\u001b[43m,\u001b[49m\n\u001b[32m   1172\u001b[39m \u001b[43m    \u001b[49m\u001b[43mstylesheet\u001b[49m\u001b[43m=\u001b[49m\u001b[43mstylesheet\u001b[49m\u001b[43m,\u001b[49m\n\u001b[32m   1173\u001b[39m \u001b[43m    \u001b[49m\u001b[43miterparse\u001b[49m\u001b[43m=\u001b[49m\u001b[43miterparse\u001b[49m\u001b[43m,\u001b[49m\n\u001b[32m   1174\u001b[39m \u001b[43m    \u001b[49m\u001b[43mcompression\u001b[49m\u001b[43m=\u001b[49m\u001b[43mcompression\u001b[49m\u001b[43m,\u001b[49m\n\u001b[32m   1175\u001b[39m \u001b[43m    \u001b[49m\u001b[43mstorage_options\u001b[49m\u001b[43m=\u001b[49m\u001b[43mstorage_options\u001b[49m\u001b[43m,\u001b[49m\n\u001b[32m   1176\u001b[39m \u001b[43m    \u001b[49m\u001b[43mdtype_backend\u001b[49m\u001b[43m=\u001b[49m\u001b[43mdtype_backend\u001b[49m\u001b[43m,\u001b[49m\n\u001b[32m   1177\u001b[39m \u001b[43m\u001b[49m\u001b[43m)\u001b[49m\n",
      "\u001b[36mFile \u001b[39m\u001b[32m~\\AppData\\Local\\Packages\\PythonSoftwareFoundation.Python.3.13_qbz5n2kfra8p0\\LocalCache\\local-packages\\Python313\\site-packages\\pandas\\io\\xml.py:852\u001b[39m, in \u001b[36m_parse\u001b[39m\u001b[34m(path_or_buffer, xpath, namespaces, elems_only, attrs_only, names, dtype, converters, parse_dates, encoding, parser, stylesheet, iterparse, compression, storage_options, dtype_backend, **kwargs)\u001b[39m\n\u001b[32m    849\u001b[39m \u001b[38;5;28;01melse\u001b[39;00m:\n\u001b[32m    850\u001b[39m     \u001b[38;5;28;01mraise\u001b[39;00m \u001b[38;5;167;01mValueError\u001b[39;00m(\u001b[33m\"\u001b[39m\u001b[33mValues for parser can only be lxml or etree.\u001b[39m\u001b[33m\"\u001b[39m)\n\u001b[32m--> \u001b[39m\u001b[32m852\u001b[39m data_dicts = \u001b[43mp\u001b[49m\u001b[43m.\u001b[49m\u001b[43mparse_data\u001b[49m\u001b[43m(\u001b[49m\u001b[43m)\u001b[49m\n\u001b[32m    854\u001b[39m \u001b[38;5;28;01mreturn\u001b[39;00m _data_to_frame(\n\u001b[32m    855\u001b[39m     data=data_dicts,\n\u001b[32m    856\u001b[39m     dtype=dtype,\n\u001b[32m   (...)\u001b[39m\u001b[32m    860\u001b[39m     **kwargs,\n\u001b[32m    861\u001b[39m )\n",
      "\u001b[36mFile \u001b[39m\u001b[32m~\\AppData\\Local\\Packages\\PythonSoftwareFoundation.Python.3.13_qbz5n2kfra8p0\\LocalCache\\local-packages\\Python313\\site-packages\\pandas\\io\\xml.py:556\u001b[39m, in \u001b[36m_LxmlFrameParser.parse_data\u001b[39m\u001b[34m(self)\u001b[39m\n\u001b[32m    553\u001b[39m \u001b[38;5;28;01mfrom\u001b[39;00m\u001b[38;5;250m \u001b[39m\u001b[34;01mlxml\u001b[39;00m\u001b[34;01m.\u001b[39;00m\u001b[34;01metree\u001b[39;00m\u001b[38;5;250m \u001b[39m\u001b[38;5;28;01mimport\u001b[39;00m iterparse\n\u001b[32m    555\u001b[39m \u001b[38;5;28;01mif\u001b[39;00m \u001b[38;5;28mself\u001b[39m.iterparse \u001b[38;5;129;01mis\u001b[39;00m \u001b[38;5;28;01mNone\u001b[39;00m:\n\u001b[32m--> \u001b[39m\u001b[32m556\u001b[39m     \u001b[38;5;28mself\u001b[39m.xml_doc = \u001b[38;5;28;43mself\u001b[39;49m\u001b[43m.\u001b[49m\u001b[43m_parse_doc\u001b[49m\u001b[43m(\u001b[49m\u001b[38;5;28;43mself\u001b[39;49m\u001b[43m.\u001b[49m\u001b[43mpath_or_buffer\u001b[49m\u001b[43m)\u001b[49m\n\u001b[32m    558\u001b[39m     \u001b[38;5;28;01mif\u001b[39;00m \u001b[38;5;28mself\u001b[39m.stylesheet:\n\u001b[32m    559\u001b[39m         \u001b[38;5;28mself\u001b[39m.xsl_doc = \u001b[38;5;28mself\u001b[39m._parse_doc(\u001b[38;5;28mself\u001b[39m.stylesheet)\n",
      "\u001b[36mFile \u001b[39m\u001b[32m~\\AppData\\Local\\Packages\\PythonSoftwareFoundation.Python.3.13_qbz5n2kfra8p0\\LocalCache\\local-packages\\Python313\\site-packages\\pandas\\io\\xml.py:631\u001b[39m, in \u001b[36m_LxmlFrameParser._parse_doc\u001b[39m\u001b[34m(self, raw_doc)\u001b[39m\n\u001b[32m    622\u001b[39m \u001b[38;5;28;01mdef\u001b[39;00m\u001b[38;5;250m \u001b[39m\u001b[34m_parse_doc\u001b[39m(\n\u001b[32m    623\u001b[39m     \u001b[38;5;28mself\u001b[39m, raw_doc: FilePath | ReadBuffer[\u001b[38;5;28mbytes\u001b[39m] | ReadBuffer[\u001b[38;5;28mstr\u001b[39m]\n\u001b[32m    624\u001b[39m ) -> etree._Element:\n\u001b[32m    625\u001b[39m     \u001b[38;5;28;01mfrom\u001b[39;00m\u001b[38;5;250m \u001b[39m\u001b[34;01mlxml\u001b[39;00m\u001b[34;01m.\u001b[39;00m\u001b[34;01metree\u001b[39;00m\u001b[38;5;250m \u001b[39m\u001b[38;5;28;01mimport\u001b[39;00m (\n\u001b[32m    626\u001b[39m         XMLParser,\n\u001b[32m    627\u001b[39m         fromstring,\n\u001b[32m    628\u001b[39m         parse,\n\u001b[32m    629\u001b[39m     )\n\u001b[32m--> \u001b[39m\u001b[32m631\u001b[39m     handle_data = \u001b[43mget_data_from_filepath\u001b[49m\u001b[43m(\u001b[49m\n\u001b[32m    632\u001b[39m \u001b[43m        \u001b[49m\u001b[43mfilepath_or_buffer\u001b[49m\u001b[43m=\u001b[49m\u001b[43mraw_doc\u001b[49m\u001b[43m,\u001b[49m\n\u001b[32m    633\u001b[39m \u001b[43m        \u001b[49m\u001b[43mencoding\u001b[49m\u001b[43m=\u001b[49m\u001b[38;5;28;43mself\u001b[39;49m\u001b[43m.\u001b[49m\u001b[43mencoding\u001b[49m\u001b[43m,\u001b[49m\n\u001b[32m    634\u001b[39m \u001b[43m        \u001b[49m\u001b[43mcompression\u001b[49m\u001b[43m=\u001b[49m\u001b[38;5;28;43mself\u001b[39;49m\u001b[43m.\u001b[49m\u001b[43mcompression\u001b[49m\u001b[43m,\u001b[49m\n\u001b[32m    635\u001b[39m \u001b[43m        \u001b[49m\u001b[43mstorage_options\u001b[49m\u001b[43m=\u001b[49m\u001b[38;5;28;43mself\u001b[39;49m\u001b[43m.\u001b[49m\u001b[43mstorage_options\u001b[49m\u001b[43m,\u001b[49m\n\u001b[32m    636\u001b[39m \u001b[43m    \u001b[49m\u001b[43m)\u001b[49m\n\u001b[32m    638\u001b[39m     \u001b[38;5;28;01mwith\u001b[39;00m preprocess_data(handle_data) \u001b[38;5;28;01mas\u001b[39;00m xml_data:\n\u001b[32m    639\u001b[39m         curr_parser = XMLParser(encoding=\u001b[38;5;28mself\u001b[39m.encoding)\n",
      "\u001b[36mFile \u001b[39m\u001b[32m~\\AppData\\Local\\Packages\\PythonSoftwareFoundation.Python.3.13_qbz5n2kfra8p0\\LocalCache\\local-packages\\Python313\\site-packages\\pandas\\io\\xml.py:708\u001b[39m, in \u001b[36mget_data_from_filepath\u001b[39m\u001b[34m(filepath_or_buffer, encoding, compression, storage_options)\u001b[39m\n\u001b[32m    691\u001b[39m \u001b[38;5;28;01mif\u001b[39;00m (\n\u001b[32m    692\u001b[39m     \u001b[38;5;28misinstance\u001b[39m(filepath_or_buffer, \u001b[38;5;28mstr\u001b[39m)\n\u001b[32m    693\u001b[39m     \u001b[38;5;129;01mand\u001b[39;00m \u001b[38;5;129;01mnot\u001b[39;00m filepath_or_buffer.startswith((\u001b[33m\"\u001b[39m\u001b[33m<?xml\u001b[39m\u001b[33m\"\u001b[39m, \u001b[33m\"\u001b[39m\u001b[33m<\u001b[39m\u001b[33m\"\u001b[39m))\n\u001b[32m   (...)\u001b[39m\u001b[32m    698\u001b[39m     \u001b[38;5;129;01mor\u001b[39;00m file_exists(filepath_or_buffer)\n\u001b[32m    699\u001b[39m ):\n\u001b[32m    700\u001b[39m     \u001b[38;5;28;01mwith\u001b[39;00m get_handle(\n\u001b[32m    701\u001b[39m         filepath_or_buffer,\n\u001b[32m    702\u001b[39m         \u001b[33m\"\u001b[39m\u001b[33mr\u001b[39m\u001b[33m\"\u001b[39m,\n\u001b[32m   (...)\u001b[39m\u001b[32m    705\u001b[39m         storage_options=storage_options,\n\u001b[32m    706\u001b[39m     ) \u001b[38;5;28;01mas\u001b[39;00m handle_obj:\n\u001b[32m    707\u001b[39m         filepath_or_buffer = (\n\u001b[32m--> \u001b[39m\u001b[32m708\u001b[39m             \u001b[43mhandle_obj\u001b[49m\u001b[43m.\u001b[49m\u001b[43mhandle\u001b[49m\u001b[43m.\u001b[49m\u001b[43mread\u001b[49m\u001b[43m(\u001b[49m\u001b[43m)\u001b[49m\n\u001b[32m    709\u001b[39m             \u001b[38;5;28;01mif\u001b[39;00m \u001b[38;5;28mhasattr\u001b[39m(handle_obj.handle, \u001b[33m\"\u001b[39m\u001b[33mread\u001b[39m\u001b[33m\"\u001b[39m)\n\u001b[32m    710\u001b[39m             \u001b[38;5;28;01melse\u001b[39;00m handle_obj.handle\n\u001b[32m    711\u001b[39m         )\n\u001b[32m    713\u001b[39m \u001b[38;5;28;01mreturn\u001b[39;00m filepath_or_buffer\n",
      "\u001b[36mFile \u001b[39m\u001b[32m<frozen codecs>:325\u001b[39m, in \u001b[36mdecode\u001b[39m\u001b[34m(self, input, final)\u001b[39m\n",
      "\u001b[31mUnicodeDecodeError\u001b[39m: 'utf-8' codec can't decode byte 0xea in position 977: invalid continuation byte"
     ]
    }
   ],
   "source": [
    "# Importer tous nos dataframmes de 2007 à 2025\n",
    "# df_2007 = pd.read_xml(\"../Donnees/brutes/PrixCarburants_annuel_2007.xml\")\n",
    "# df_2008 = pd.read_xml(\"../Donnees/brutes/PrixCarburants_annuel_2008.xml\")\n",
    "# df_2009 = pd.read_xml(\"../Donnees/brutes/PrixCarburants_annuel_2009.xml\")\n",
    "# df_2010 = pd.read_xml(\"../Donnees/brutes/PrixCarburants_annuel_2010.xml\")\n",
    "# df_2011 = pd.read_xml(\"../Donnees/brutes/PrixCarburants_annuel_2011.xml\")\n",
    "# df_2012 = pd.read_xml(\"../Donnees/brutes/PrixCarburants_annuel_2012.xml\")\n",
    "# df_2013 = pd.read_xml(\"../Donnees/brutes/PrixCarburants_annuel_2013.xml\")\n",
    "# df_2014 = pd.read_xml(\"../Donnees/brutes/PrixCarburants_annuel_2014.xml\")\n",
    "# df_2015 = pd.read_xml(\"../Donnees/brutes/PrixCarburants_annuel_2015.xml\")\n",
    "# df_2016 = pd.read_xml(\"../Donnees/brutes/PrixCarburants_annuel_2016.xml\")\n",
    "# df_2017 = pd.read_xml(\"../Donnees/brutes/PrixCarburants_annuel_2017.xml\")\n",
    "# df_2018 = pd.read_xml(\"../Donnees/brutes/PrixCarburants_annuel_2018.xml\")\n",
    "# df_2019 = pd.read_xml(\"../Donnees/brutes/PrixCarburants_annuel_2019.xml\")\n",
    "# df_2020 = pd.read_xml(\"../Donnees/brutes/PrixCarburants_annuel_2020.xml\")\n",
    "# df_2021 = pd.read_xml(\"../Donnees/brutes/PrixCarburants_annuel_2021.xml\")\n",
    "# df_2022 = pd.read_xml(\"../Donnees/brutes/PrixCarburants_annuel_2022.xml\")\n",
    "# df_2023 = pd.read_xml(\"../Donnees/brutes/PrixCarburants_annuel_2023.xml\")\n",
    "# df_2024 = pd.read_xml(\"../Donnees/brutes/PrixCarburants_annuel_2024.xml\")\n",
    "df_2025 = pd.read_xml(\"../Donnees/brutes/PrixCarburants_annuel_2025.xml\")\n",
    "# df_instantane = pd.read_xml(\"../Donnees/brutes/PrixCarburants_instantane.xml\")\n",
    "# df_quotidient = pd.read_xml(\"../Donnees/brutes/PrixCarburants_quotidien.xml\")"
   ]
  },
  {
   "cell_type": "code",
   "execution_count": 17,
   "id": "e3669d77-1e3c-4b15-b834-b5f9ba51e0b6",
   "metadata": {},
   "outputs": [],
   "source": [
    "# Identifier les lignes dont le prix n'est pas NaN\n",
    "df_2007_good = df_2007[df_2007[\"prix\"].isna()]"
   ]
  },
  {
   "cell_type": "code",
   "execution_count": 18,
   "id": "de614a52-97a5-48fb-bc66-48f055816369",
   "metadata": {},
   "outputs": [
    {
     "data": {
      "text/plain": [
       "(7904, 12)"
      ]
     },
     "execution_count": 18,
     "metadata": {},
     "output_type": "execute_result"
    }
   ],
   "source": [
    "df_2007_good.shape"
   ]
  },
  {
   "cell_type": "code",
   "execution_count": null,
   "id": "ead3839f-03f3-4799-996a-a3f2accd6ff3",
   "metadata": {},
   "outputs": [],
   "source": [
    "df_instantane[\"prix\"].unique()"
   ]
  },
  {
   "cell_type": "code",
   "execution_count": null,
   "id": "d49926c9-a820-410a-91a9-4c640af7ca0d",
   "metadata": {},
   "outputs": [],
   "source": [
    "import xml.etree.ElementTree as ET\n",
    "import pandas as pd\n",
    "\n",
    "def xml_vers_dataframe_elementtree(chemin_fichier):\n",
    "    try:\n",
    "        tree = ET.parse(chemin_fichier)\n",
    "        root = tree.getroot()\n",
    "        data = []\n",
    "        colonnes = []\n",
    "\n",
    "        for livre in root.findall('livre'):\n",
    "            livre_data = livre.attrib.copy() # Récupérer les attributs du livre (comme l'ISBN)\n",
    "            for enfant in livre:\n",
    "                if enfant.tag not in ['auteur']:\n",
    "                    livre_data[enfant.tag] = enfant.text\n",
    "                elif enfant.tag == 'auteur':\n",
    "                    livre_data['auteur_nom'] = enfant.find('nom').text\n",
    "                    livre_data['auteur_prenom'] = enfant.find('prenom').text\n",
    "            data.append(livre_data)\n",
    "            for cle in livre_data.keys():\n",
    "                if cle not in colonnes:\n",
    "                    colonnes.append(cle)\n",
    "\n",
    "        df = pd.DataFrame(data, columns=colonnes)\n",
    "        return df\n",
    "\n",
    "    except FileNotFoundError:\n",
    "        print(f\"Erreur: Le fichier '{chemin_fichier}' n'a pas été trouvé.\")\n",
    "        return None\n",
    "    except ET.ParseError as e:\n",
    "        print(f\"Erreur lors de l'analyse du fichier XML: {e}\")\n",
    "        return None\n",
    "\n",
    "# Exemple d'utilisation\n",
    "chemin_du_fichier_xml = \"../Donnees/brutes/PrixCarburants_annuel_2024.xml\"\n",
    "df_livres = xml_vers_dataframe_elementtree(chemin_du_fichier_xml)\n",
    "\n",
    "if df_livres is not None:\n",
    "    print(df_livres)"
   ]
  },
  {
   "cell_type": "code",
   "execution_count": null,
   "id": "69adfef3-66b8-4d60-8581-a9d04b725b4e",
   "metadata": {},
   "outputs": [],
   "source": []
  }
 ],
 "metadata": {
  "kernelspec": {
   "display_name": "Python 3 (ipykernel)",
   "language": "python",
   "name": "python3"
  },
  "language_info": {
   "codemirror_mode": {
    "name": "ipython",
    "version": 3
   },
   "file_extension": ".py",
   "mimetype": "text/x-python",
   "name": "python",
   "nbconvert_exporter": "python",
   "pygments_lexer": "ipython3",
   "version": "3.13.3"
  }
 },
 "nbformat": 4,
 "nbformat_minor": 5
}

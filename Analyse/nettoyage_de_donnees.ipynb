{
 "cells": [
  {
   "cell_type": "markdown",
   "id": "159c26cb",
   "metadata": {},
   "source": [
    "<h1><b>Projet d'analyse et de prédiction des prix des carburants en france</b></h1>\n",
    "<h3><u>Objectifs :</u></h3>\n",
    "1- Extraction et néttoyage des données brutes pour les rendre exploitables <br>\n",
    "2- Analyse des tendances et visualisation via des graphiques.<br>\n",
    "3- Prédiction des prix moyens des carburants sur 5 ans.<br>"
   ]
  },
  {
   "cell_type": "markdown",
   "id": "cf7b70f5",
   "metadata": {},
   "source": [
    "**Dans cette partie du projet, nous allons importer les données brutes au format xml et les néttoyer pour ensuite les transformer en document csv.**<br>\n",
    "**NB:** Les données ont été récupérées depuis le site datagouv.fr"
   ]
  },
  {
   "cell_type": "markdown",
   "id": "2595e1a1",
   "metadata": {},
   "source": [
    "Importation des bibliothèques utiles"
   ]
  },
  {
   "cell_type": "code",
   "execution_count": 17,
   "id": "5e801bf2-485e-4736-b214-69a16e63373e",
   "metadata": {},
   "outputs": [],
   "source": [
    "# Importation des bibliothèques utiles\n",
    "import pandas as pd\n",
    "import matplotlib.pyplot as plt\n",
    "import numpy as np\n",
    "from lxml import etree\n",
    "import xml.etree.ElementTree as ET\n",
    "import matplotlib.pyplot as plt"
   ]
  },
  {
   "cell_type": "markdown",
   "id": "b3db33f2",
   "metadata": {},
   "source": [
    "Voir la structure du fichier xml"
   ]
  },
  {
   "cell_type": "code",
   "execution_count": 18,
   "id": "daa29c34-305e-4c15-86f3-24210e1a21c0",
   "metadata": {},
   "outputs": [],
   "source": [
    "## Test de lecture des données avec ElementTree pour avoir un aperçu de la structure\n",
    "# tree = ET.parse(\"../Donnees/brutes/PrixCarburants_annuel_2007.xml\") # Charger le fichier\n",
    "# root = tree.getroot()  # Récupérer la racine\n",
    "# for child in root.iter():\n",
    "#     print(child.tag, \"---------\", child.attrib) # Afficher les enfants"
   ]
  },
  {
   "cell_type": "markdown",
   "id": "8ba4b104",
   "metadata": {},
   "source": [
    "Méthode pour transformer les données xml en dataframes"
   ]
  },
  {
   "cell_type": "code",
   "execution_count": 19,
   "id": "d47201b0-5572-4165-84c3-5930801bde28",
   "metadata": {},
   "outputs": [],
   "source": [
    "# Méthode qui permet de construire les différents dataframes à partir des fichiers XML:\n",
    "def create_dataframe_from_xml_files(lien_fichier):\n",
    "    tree = ET.parse(lien_fichier) # Charger le fichier\n",
    "    root = tree.getroot()  # Récupérer la racine\n",
    "    df_rows = [] # Pour stocker les lignes de données qu'on va utiliser pour construire le df\n",
    "    for pdv in root: # pdv = point de vente\n",
    "        id_pdv = pdv.attrib.get('id')\n",
    "        latitude = pdv.attrib.get('latitude')\n",
    "        longitude = pdv.attrib.get('longitude')\n",
    "        cp = pdv.attrib.get('cp')\n",
    "        pop = pdv.attrib.get('pop')\n",
    "        # On initialise les variables utiles pour chaque pdv\n",
    "        adresse = None\n",
    "        ville = None\n",
    "        services = []\n",
    "        # On parcourt les enfants de pdv pour récupérer les informations\n",
    "        for sous_child in pdv:\n",
    "            if sous_child.tag == \"adresse\":\n",
    "                adresse = sous_child.text\n",
    "            elif sous_child.tag == \"ville\":\n",
    "                ville = sous_child.text\n",
    "            elif sous_child.tag == \"services\":\n",
    "                services = [s.text for s in sous_child.findall(\"service\")]\n",
    "            elif sous_child.tag == \"prix\":\n",
    "                row = {\n",
    "                    'id_pdv': id_pdv,\n",
    "                    'latitude': latitude,\n",
    "                    'longitude': longitude,\n",
    "                    'code_postal': cp,\n",
    "                    'pop': pop,\n",
    "                    'adresse': adresse,\n",
    "                    'ville': ville,\n",
    "                    'services': services, # Liste de services\n",
    "                    'type_carburant': sous_child.attrib.get('nom'),\n",
    "                    'id_prix': sous_child.attrib.get('id'),\n",
    "                    'date_vente': sous_child.attrib.get('maj'),\n",
    "                    'prix': float(sous_child.attrib.get('valeur')) if sous_child.attrib.get('valeur') else None\n",
    "                }\n",
    "                df_rows.append(row)\n",
    "    # Création du DataFrame final\n",
    "    df_final = pd.DataFrame(df_rows)\n",
    "    return(df_final)\n",
    "\n",
    "\n",
    "\n"
   ]
  },
  {
   "cell_type": "markdown",
   "id": "37708140",
   "metadata": {},
   "source": [
    "Ici on va appliquer la méthode à tous les fichiers xml (par section car les fichiers sont très volumineux)"
   ]
  },
  {
   "cell_type": "code",
   "execution_count": 20,
   "id": "adf750b9-c1a3-4200-bcea-08e121bcb3e8",
   "metadata": {},
   "outputs": [],
   "source": [
    "# Création de tous nos dataframmes de 2007 à 2011\n",
    "df_2007 = create_dataframe_from_xml_files(\"../Donnees/brutes/PrixCarburants_annuel_2007.xml\")\n",
    "df_2008 = create_dataframe_from_xml_files(\"../Donnees/brutes/PrixCarburants_annuel_2008.xml\")\n",
    "df_2009 = create_dataframe_from_xml_files(\"../Donnees/brutes/PrixCarburants_annuel_2009.xml\")\n",
    "df_2010 = create_dataframe_from_xml_files(\"../Donnees/brutes/PrixCarburants_annuel_2010.xml\")\n",
    "df_2011 = create_dataframe_from_xml_files(\"../Donnees/brutes/PrixCarburants_annuel_2011.xml\")\n"
   ]
  },
  {
   "cell_type": "code",
   "execution_count": 21,
   "id": "aa05da40",
   "metadata": {},
   "outputs": [],
   "source": [
    "# Création de tous nos dataframmes de 2012 à 2016\n",
    "df_2012 = create_dataframe_from_xml_files(\"../Donnees/brutes/PrixCarburants_annuel_2012.xml\")\n",
    "df_2013 = create_dataframe_from_xml_files(\"../Donnees/brutes/PrixCarburants_annuel_2013.xml\")\n",
    "df_2014 = create_dataframe_from_xml_files(\"../Donnees/brutes/PrixCarburants_annuel_2014.xml\")\n",
    "df_2015 = create_dataframe_from_xml_files(\"../Donnees/brutes/PrixCarburants_annuel_2015.xml\")\n",
    "df_2016 = create_dataframe_from_xml_files(\"../Donnees/brutes/PrixCarburants_annuel_2016.xml\")"
   ]
  },
  {
   "cell_type": "code",
   "execution_count": 22,
   "id": "73f364d7",
   "metadata": {},
   "outputs": [],
   "source": [
    "# Création de tous nos dataframmes de 2017 à 2022\n",
    "df_2017 = create_dataframe_from_xml_files(\"../Donnees/brutes/PrixCarburants_annuel_2017.xml\")\n",
    "df_2018 = create_dataframe_from_xml_files(\"../Donnees/brutes/PrixCarburants_annuel_2018.xml\")\n",
    "df_2019 = create_dataframe_from_xml_files(\"../Donnees/brutes/PrixCarburants_annuel_2019.xml\")\n",
    "df_2020 = create_dataframe_from_xml_files(\"../Donnees/brutes/PrixCarburants_annuel_2020.xml\")\n",
    "df_2021 = create_dataframe_from_xml_files(\"../Donnees/brutes/PrixCarburants_annuel_2021.xml\")"
   ]
  },
  {
   "cell_type": "code",
   "execution_count": 23,
   "id": "4ee83507",
   "metadata": {},
   "outputs": [],
   "source": [
    "# Création de tous nos dataframmes de 2022 à 2025 + le flux instantané et quotidien pour 2025\n",
    "df_2022 = create_dataframe_from_xml_files(\"../Donnees/brutes/PrixCarburants_annuel_2022.xml\")\n",
    "df_2023 = create_dataframe_from_xml_files(\"../Donnees/brutes/PrixCarburants_annuel_2023.xml\")\n",
    "df_2024 = create_dataframe_from_xml_files(\"../Donnees/brutes/PrixCarburants_annuel_2024.xml\")\n",
    "df_2025 = create_dataframe_from_xml_files(\"../Donnees/brutes/PrixCarburants_annuel_2025.xml\")\n",
    "df_instantane = create_dataframe_from_xml_files(\"../Donnees/brutes/PrixCarburants_instantane.xml\")\n",
    "# df_quotidient = create_dataframe_from_xml_files(\"../Donnees/brutes/PrixCarburants_quotidien.xml\") # Structure différente des autres"
   ]
  },
  {
   "cell_type": "code",
   "execution_count": 24,
   "id": "ef4ec469",
   "metadata": {},
   "outputs": [
    {
     "data": {
      "text/plain": [
       "<bound method NDFrame.head of          id_pdv latitude longitude code_postal pop                    adresse  \\\n",
       "0      44000009  4720393   -154657       44200   R  16 BD DES MARTYRS NANTAIS   \n",
       "1      44000009  4720393   -154657       44200   R  16 BD DES MARTYRS NANTAIS   \n",
       "2      44000009  4720393   -154657       44200   R  16 BD DES MARTYRS NANTAIS   \n",
       "3      95350002  4900763    235163       95350   R  20 avenue robert schumann   \n",
       "4      95350002  4900763    235163       95350   R  20 avenue robert schumann   \n",
       "...         ...      ...       ...         ...  ..                        ...   \n",
       "33537  79360001  4618400    -47200       79360   R      1 impasse des Acacias   \n",
       "33538   2100020  4983400    330000       02100   R         BLD CAMILLE GUERIN   \n",
       "33539   2100020  4983400    330000       02100   R         BLD CAMILLE GUERIN   \n",
       "33540   2100020  4983400    330000       02100   R         BLD CAMILLE GUERIN   \n",
       "33541   2100020  4983400    330000       02100   R         BLD CAMILLE GUERIN   \n",
       "\n",
       "                        ville  \\\n",
       "0                      NANTES   \n",
       "1                      NANTES   \n",
       "2                      NANTES   \n",
       "3      SAINT-BRICE-SOUS-FORêT   \n",
       "4      SAINT-BRICE-SOUS-FORêT   \n",
       "...                       ...   \n",
       "33537      BEAUVOIR-SUR-NIORT   \n",
       "33538           Saint-Quentin   \n",
       "33539           Saint-Quentin   \n",
       "33540           Saint-Quentin   \n",
       "33541           Saint-Quentin   \n",
       "\n",
       "                                                services type_carburant  \\\n",
       "0      [Toilettes publiques, Boutique alimentaire, Bo...         Gazole   \n",
       "1      [Toilettes publiques, Boutique alimentaire, Bo...            E10   \n",
       "2      [Toilettes publiques, Boutique alimentaire, Bo...           SP98   \n",
       "3      [Vente de gaz domestique (Butane, Propane), DA...         Gazole   \n",
       "4      [Vente de gaz domestique (Butane, Propane), DA...           SP95   \n",
       "...                                                  ...            ...   \n",
       "33537  [Vente de pétrole lampant, Piste poids lourds,...            E10   \n",
       "33538  [Boutique alimentaire, Station de gonflage, La...         Gazole   \n",
       "33539  [Boutique alimentaire, Station de gonflage, La...            E85   \n",
       "33540  [Boutique alimentaire, Station de gonflage, La...            E10   \n",
       "33541  [Boutique alimentaire, Station de gonflage, La...           SP98   \n",
       "\n",
       "      id_prix           date_vente   prix  \n",
       "0           1  2025-03-30 00:01:00  1.699  \n",
       "1           5  2025-03-30 00:01:00  1.769  \n",
       "2           6  2025-03-30 00:01:00  1.879  \n",
       "3           1  2025-03-28 14:51:00  1.639  \n",
       "4           2  2025-03-28 14:51:00  1.735  \n",
       "...       ...                  ...    ...  \n",
       "33537       5  2025-03-28 08:01:24  1.672  \n",
       "33538       1  2025-03-30 00:01:00  1.625  \n",
       "33539       3  2025-03-30 00:01:00  0.719  \n",
       "33540       5  2025-03-30 00:01:00  1.711  \n",
       "33541       6  2025-03-30 00:01:00  1.809  \n",
       "\n",
       "[33542 rows x 12 columns]>"
      ]
     },
     "execution_count": 24,
     "metadata": {},
     "output_type": "execute_result"
    }
   ],
   "source": [
    "df_instantane.head"
   ]
  },
  {
   "cell_type": "code",
   "execution_count": 25,
   "id": "de572f8a",
   "metadata": {},
   "outputs": [],
   "source": [
    "# On ramène les prix de 2022 à 2025 en dixièmes d'euros (car ils sont en euro)\n",
    "df_2022['prix'] = df_2022['prix'] * 1000\n",
    "df_2023['prix'] = df_2023['prix'] * 1000\n",
    "df_2024['prix'] = df_2024['prix'] * 1000\n",
    "df_2025['prix'] = df_2025['prix'] * 1000"
   ]
  },
  {
   "cell_type": "markdown",
   "id": "dd867744",
   "metadata": {},
   "source": [
    "On vérifie que tout s'est bien passsé"
   ]
  },
  {
   "cell_type": "code",
   "execution_count": 26,
   "id": "5a846902",
   "metadata": {},
   "outputs": [
    {
     "data": {
      "text/html": [
       "<div>\n",
       "<style scoped>\n",
       "    .dataframe tbody tr th:only-of-type {\n",
       "        vertical-align: middle;\n",
       "    }\n",
       "\n",
       "    .dataframe tbody tr th {\n",
       "        vertical-align: top;\n",
       "    }\n",
       "\n",
       "    .dataframe thead th {\n",
       "        text-align: right;\n",
       "    }\n",
       "</style>\n",
       "<table border=\"1\" class=\"dataframe\">\n",
       "  <thead>\n",
       "    <tr style=\"text-align: right;\">\n",
       "      <th></th>\n",
       "      <th>id_pdv</th>\n",
       "      <th>latitude</th>\n",
       "      <th>longitude</th>\n",
       "      <th>code_postal</th>\n",
       "      <th>pop</th>\n",
       "      <th>adresse</th>\n",
       "      <th>ville</th>\n",
       "      <th>services</th>\n",
       "      <th>type_carburant</th>\n",
       "      <th>id_prix</th>\n",
       "      <th>date_vente</th>\n",
       "      <th>prix</th>\n",
       "    </tr>\n",
       "  </thead>\n",
       "  <tbody>\n",
       "    <tr>\n",
       "      <th>1243908</th>\n",
       "      <td>95870010</td>\n",
       "      <td>4893688.8607759</td>\n",
       "      <td>220698.30018219</td>\n",
       "      <td>95870</td>\n",
       "      <td>R</td>\n",
       "      <td>179 avenue Gabriel Péri</td>\n",
       "      <td>Bezons</td>\n",
       "      <td>[Toilettes publiques, Boutique alimentaire, Bo...</td>\n",
       "      <td>SP98</td>\n",
       "      <td>6</td>\n",
       "      <td>2025-03-14T20:26:12</td>\n",
       "      <td>1904.0</td>\n",
       "    </tr>\n",
       "    <tr>\n",
       "      <th>1243909</th>\n",
       "      <td>95870010</td>\n",
       "      <td>4893688.8607759</td>\n",
       "      <td>220698.30018219</td>\n",
       "      <td>95870</td>\n",
       "      <td>R</td>\n",
       "      <td>179 avenue Gabriel Péri</td>\n",
       "      <td>Bezons</td>\n",
       "      <td>[Toilettes publiques, Boutique alimentaire, Bo...</td>\n",
       "      <td>SP98</td>\n",
       "      <td>6</td>\n",
       "      <td>2025-03-21T20:15:53</td>\n",
       "      <td>1909.0</td>\n",
       "    </tr>\n",
       "    <tr>\n",
       "      <th>1243910</th>\n",
       "      <td>95870010</td>\n",
       "      <td>4893688.8607759</td>\n",
       "      <td>220698.30018219</td>\n",
       "      <td>95870</td>\n",
       "      <td>R</td>\n",
       "      <td>179 avenue Gabriel Péri</td>\n",
       "      <td>Bezons</td>\n",
       "      <td>[Toilettes publiques, Boutique alimentaire, Bo...</td>\n",
       "      <td>SP98</td>\n",
       "      <td>6</td>\n",
       "      <td>2025-03-24T21:01:56</td>\n",
       "      <td>1919.0</td>\n",
       "    </tr>\n",
       "    <tr>\n",
       "      <th>1243911</th>\n",
       "      <td>95870010</td>\n",
       "      <td>4893688.8607759</td>\n",
       "      <td>220698.30018219</td>\n",
       "      <td>95870</td>\n",
       "      <td>R</td>\n",
       "      <td>179 avenue Gabriel Péri</td>\n",
       "      <td>Bezons</td>\n",
       "      <td>[Toilettes publiques, Boutique alimentaire, Bo...</td>\n",
       "      <td>SP98</td>\n",
       "      <td>6</td>\n",
       "      <td>2025-03-26T21:06:48</td>\n",
       "      <td>1929.0</td>\n",
       "    </tr>\n",
       "    <tr>\n",
       "      <th>1243912</th>\n",
       "      <td>96600001</td>\n",
       "      <td>4875637</td>\n",
       "      <td>241048</td>\n",
       "      <td>94600</td>\n",
       "      <td>R</td>\n",
       "      <td>16 Avenue de Newburn</td>\n",
       "      <td>Choisy-le-Roi</td>\n",
       "      <td>[Boutique non alimentaire, Carburant additivé,...</td>\n",
       "      <td>None</td>\n",
       "      <td>None</td>\n",
       "      <td>None</td>\n",
       "      <td>NaN</td>\n",
       "    </tr>\n",
       "  </tbody>\n",
       "</table>\n",
       "</div>"
      ],
      "text/plain": [
       "           id_pdv         latitude        longitude code_postal pop  \\\n",
       "1243908  95870010  4893688.8607759  220698.30018219       95870   R   \n",
       "1243909  95870010  4893688.8607759  220698.30018219       95870   R   \n",
       "1243910  95870010  4893688.8607759  220698.30018219       95870   R   \n",
       "1243911  95870010  4893688.8607759  220698.30018219       95870   R   \n",
       "1243912  96600001          4875637           241048       94600   R   \n",
       "\n",
       "                         adresse          ville  \\\n",
       "1243908  179 avenue Gabriel Péri         Bezons   \n",
       "1243909  179 avenue Gabriel Péri         Bezons   \n",
       "1243910  179 avenue Gabriel Péri         Bezons   \n",
       "1243911  179 avenue Gabriel Péri         Bezons   \n",
       "1243912     16 Avenue de Newburn  Choisy-le-Roi   \n",
       "\n",
       "                                                  services type_carburant  \\\n",
       "1243908  [Toilettes publiques, Boutique alimentaire, Bo...           SP98   \n",
       "1243909  [Toilettes publiques, Boutique alimentaire, Bo...           SP98   \n",
       "1243910  [Toilettes publiques, Boutique alimentaire, Bo...           SP98   \n",
       "1243911  [Toilettes publiques, Boutique alimentaire, Bo...           SP98   \n",
       "1243912  [Boutique non alimentaire, Carburant additivé,...           None   \n",
       "\n",
       "        id_prix           date_vente    prix  \n",
       "1243908       6  2025-03-14T20:26:12  1904.0  \n",
       "1243909       6  2025-03-21T20:15:53  1909.0  \n",
       "1243910       6  2025-03-24T21:01:56  1919.0  \n",
       "1243911       6  2025-03-26T21:06:48  1929.0  \n",
       "1243912    None                 None     NaN  "
      ]
     },
     "execution_count": 26,
     "metadata": {},
     "output_type": "execute_result"
    }
   ],
   "source": [
    "df_2025.tail(5) # Afficher quelques lignes du df de 2007 pour vérifier"
   ]
  },
  {
   "cell_type": "markdown",
   "id": "13121d15",
   "metadata": {},
   "source": [
    "Exportation des dataframes au format csv pour les conserver en vu d'une analyse futur"
   ]
  },
  {
   "cell_type": "code",
   "execution_count": 27,
   "id": "6a04a6bc",
   "metadata": {},
   "outputs": [],
   "source": [
    "# On exporte une partie de nos données au format csv (2007 - 2011)\n",
    "df_2007.to_csv(\"../Donnees/nettoyees/prix_carburants_2007.csv\", sep = ',', index=False)\n",
    "df_2008.to_csv(\"../Donnees/nettoyees/prix_carburants_2008.csv\", sep = ',', index=False)\n",
    "df_2009.to_csv(\"../Donnees/nettoyees/prix_carburants_2009.csv\", sep = ',', index=False)\n",
    "df_2010.to_csv(\"../Donnees/nettoyees/prix_carburants_2010.csv\", sep = ',', index=False)\n",
    "df_2011.to_csv(\"../Donnees/nettoyees/prix_carburants_2011.csv\", sep = ',', index=False)"
   ]
  },
  {
   "cell_type": "code",
   "execution_count": 28,
   "id": "59e4888e",
   "metadata": {},
   "outputs": [],
   "source": [
    "# On exporte une partie de nos données au format csv (2012 - 2016)\n",
    "df_2012.to_csv(\"../Donnees/nettoyees/prix_carburants_2012.csv\", sep = ',', index=False)\n",
    "df_2013.to_csv(\"../Donnees/nettoyees/prix_carburants_2013.csv\", sep = ',', index=False)\n",
    "df_2014.to_csv(\"../Donnees/nettoyees/prix_carburants_2014.csv\", sep = ',', index=False)\n",
    "df_2015.to_csv(\"../Donnees/nettoyees/prix_carburants_2015.csv\", sep = ',', index=False)\n",
    "df_2016.to_csv(\"../Donnees/nettoyees/prix_carburants_2016.csv\", sep = ',', index=False)"
   ]
  },
  {
   "cell_type": "code",
   "execution_count": 29,
   "id": "fa406f7c",
   "metadata": {},
   "outputs": [],
   "source": [
    "# On exporte une partie de nos données au format csv (2017 - 2021)\n",
    "df_2017.to_csv(\"../Donnees/nettoyees/prix_carburants_2017.csv\", sep = ',', index=False)\n",
    "df_2018.to_csv(\"../Donnees/nettoyees/prix_carburants_2018.csv\", sep = ',', index=False)\n",
    "df_2019.to_csv(\"../Donnees/nettoyees/prix_carburants_2019.csv\", sep = ',', index=False)\n",
    "df_2020.to_csv(\"../Donnees/nettoyees/prix_carburants_2020.csv\", sep = ',', index=False)\n",
    "df_2021.to_csv(\"../Donnees/nettoyees/prix_carburants_2021.csv\", sep = ',', index=False)"
   ]
  },
  {
   "cell_type": "code",
   "execution_count": 30,
   "id": "1b487dec",
   "metadata": {},
   "outputs": [],
   "source": [
    "# On exporte une partie de nos données au format csv (2022 - 2025 + flux instantane) \n",
    "df_2022.to_csv(\"../Donnees/nettoyees/prix_carburants_2022.csv\", sep = ',', index=False)\n",
    "df_2023.to_csv(\"../Donnees/nettoyees/prix_carburants_2023.csv\", sep = ',', index=False)\n",
    "df_2024.to_csv(\"../Donnees/nettoyees/prix_carburants_2024.csv\", sep = ',', index=False)\n",
    "df_2025.to_csv(\"../Donnees/nettoyees/prix_carburants_2025.csv\", sep = ',', index=False)\n",
    "df_instantane.to_csv(\"../Donnees/nettoyees/prix_carburants_instantane.csv\", sep = ',', index=False)\n",
    "# df_quotidient.to_csv(\"prix_carburants_quotidien.csv\", sep = ',', index=False) # Structure différente des autres"
   ]
  },
  {
   "cell_type": "markdown",
   "id": "6c2b5ad3",
   "metadata": {},
   "source": [
    "La suite du projet a lieu dans le fichier analyse_tendances.ipynb."
   ]
  }
 ],
 "metadata": {
  "kernelspec": {
   "display_name": "Python 3",
   "language": "python",
   "name": "python3"
  },
  "language_info": {
   "codemirror_mode": {
    "name": "ipython",
    "version": 3
   },
   "file_extension": ".py",
   "mimetype": "text/x-python",
   "name": "python",
   "nbconvert_exporter": "python",
   "pygments_lexer": "ipython3",
   "version": "3.13.3"
  }
 },
 "nbformat": 4,
 "nbformat_minor": 5
}

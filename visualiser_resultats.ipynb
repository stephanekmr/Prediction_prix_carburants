{
 "cells": [
  {
   "cell_type": "markdown",
   "id": "e099e1d2",
   "metadata": {},
   "source": [
    "TODO : Interface graphique pour présenter les résultats de façon interactive"
   ]
  },
  {
   "cell_type": "markdown",
   "id": "404bb230",
   "metadata": {},
   "source": []
  }
 ],
 "metadata": {
  "language_info": {
   "name": "python"
  }
 },
 "nbformat": 4,
 "nbformat_minor": 5
}

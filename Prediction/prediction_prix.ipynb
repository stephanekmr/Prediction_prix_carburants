{
 "cells": [
  {
   "cell_type": "markdown",
   "id": "e8e76f26",
   "metadata": {},
   "source": [
    "<h3>Dans cette deuxième partie du projet, nous allons analyser les tendances des prix et présenter les résultats sous forme de graphiques.</h3>\n",
    "<h4><u>Plan de travail :</u></h4>\n",
    "1- Prédiction des prix sur 5 ans par régression (Random Forest) <br>\n",
    "2- ..."
   ]
  },
  {
   "cell_type": "code",
   "execution_count": null,
   "id": "e189b9d7",
   "metadata": {
    "vscode": {
     "languageId": "plaintext"
    }
   },
   "outputs": [],
   "source": []
  }
 ],
 "metadata": {
  "language_info": {
   "name": "python"
  }
 },
 "nbformat": 4,
 "nbformat_minor": 5
}
